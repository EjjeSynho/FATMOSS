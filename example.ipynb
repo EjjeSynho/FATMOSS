{
 "cells": [
  {
   "cell_type": "code",
   "execution_count": 1,
   "metadata": {},
   "outputs": [],
   "source": [
    "import numpy as np\n",
    "import matplotlib.pyplot as plt\n",
    "from tqdm import tqdm\n",
    "import time\n",
    "from phase_generator import *"
   ]
  },
  {
   "cell_type": "markdown",
   "metadata": {},
   "source": [
    "Initalize simulation parameters and the simulator"
   ]
  },
  {
   "cell_type": "code",
   "execution_count": null,
   "metadata": {},
   "outputs": [],
   "source": [
    "# Parameters\n",
    "D  = 8.0  # Size of the phase screen [m]\n",
    "r0 = 0.1  # Fried parameter [m]\n",
    "L0 = 25.0 # Outer scale [m]\n",
    "\n",
    "dx = r0 / 3.0 # Spatial sampling interval [m/pixel], make sure r0 is Nyquist sampled\n",
    "dt = 0.001 # Time step [s/step]\n",
    "\n",
    "wind_speed = 40 # [m/s]\n",
    "wind_direction = 45 # [degree]\n",
    "boiling_factor = 0*500 # [a.u], need to figure them out\n",
    "\n",
    "screen_generator = CascadedPhaseGenerator(D, dx, dt, batch_size=config['batch_size'], n_cascades=3)\n",
    "screen_generator.AddLayer(0.5, r0, L0, wind_speed, wind_direction, boiling_factor)\n",
    "screen_generator.AddLayer(0.5, r0/2., L0, wind_speed*2, wind_direction*4, boiling_factor)"
   ]
  },
  {
   "cell_type": "markdown",
   "metadata": {},
   "source": [
    "Generate 1000 atmospheric phase screens. Even though the phase screens here are accesses one by one, the batch with $N_{screens}$ is pre-generated. Then, the screens are read from it."
   ]
  },
  {
   "cell_type": "code",
   "execution_count": null,
   "metadata": {},
   "outputs": [],
   "source": [
    "if GPU_flag:\n",
    "    start = cp.cuda.Event()\n",
    "    end   = cp.cuda.Event()\n",
    "\n",
    "total_time = 0\n",
    "screens_cascade = []\n",
    "\n",
    "for i in tqdm(range(1000)):\n",
    "    if GPU_flag:\n",
    "        start.record()\n",
    "    else:\n",
    "        start = time.time()\n",
    "        \n",
    "    screens_cascade.append(screen_generator.GetScreenByTimestep(i))\n",
    "    \n",
    "    if GPU_flag:\n",
    "        end.record()\n",
    "        end.synchronize()\n",
    "        total_time += cp.cuda.get_elapsed_time(start, end)  # Time in [ms]\n",
    "    else:\n",
    "        end = time.time()\n",
    "        total_time += (end-start) * 1000\n",
    "\n",
    "screens_cascade = xp.dstack(screens_cascade)\n",
    "\n",
    "print(f\"Total elapsed time: {np.round(total_time/1e3,1)} [s]\")\n",
    "print(f\"Time per sreen: {np.round(total_time/screen_generator.num_screens).astype(xp.uint16)} [ms]\")"
   ]
  },
  {
   "cell_type": "markdown",
   "metadata": {},
   "source": [
    "Save as video file"
   ]
  },
  {
   "cell_type": "code",
   "execution_count": null,
   "metadata": {},
   "outputs": [],
   "source": [
    "SaveVideo(screens_cascade)"
   ]
  },
  {
   "cell_type": "markdown",
   "metadata": {},
   "source": [
    "Compare the PSD estimated from the series of previously generated screens with a theoretical oversampled PSD"
   ]
  },
  {
   "cell_type": "code",
   "execution_count": null,
   "metadata": {},
   "outputs": [],
   "source": [
    "oversampling_factor = 17\n",
    "_,_,f_over, df_over = screen_generator.freq_array(screen_generator.N*oversampling_factor, dx)\n",
    "\n",
    "rad2nm = 500.0 / 2.0 / np.pi # [nm/rad]\n",
    "\n",
    "PSD_ultimate = screen_generator.vonKarmanPSD(f_over, r0, L0) * df_over**2 * rad2nm**2 * oversampling_factor**2\n",
    "\n",
    "PSD_out = PSD_to_phase(screens_cascade)\n",
    "if GPU_flag:\n",
    "    PSD_out = cp.asnumpy(PSD_out)\n",
    "\n",
    "\n",
    "radialize_PSD(PSD_ultimate, f_over, 'Ultimate PSD')\n",
    "radialize_PSD(PSD_out, screen_generator.f[...,0], 'Reconstructed PSD')\n",
    "\n",
    "plt.grid()\n",
    "plt.title('Theoretical oversampled PSD vs. PSD from phases')\n",
    "plt.legend()\n",
    "plt.yscale('log')\n",
    "plt.xscale('log')\n",
    "plt.xlabel('Spatial frequency [1/m]')\n",
    "plt.ylabel(r'$PSD [nm^2/m^2]$')\n",
    "plt.show()"
   ]
  }
 ],
 "metadata": {
  "kernelspec": {
   "display_name": "AO-torch",
   "language": "python",
   "name": "python3"
  },
  "language_info": {
   "codemirror_mode": {
    "name": "ipython",
    "version": 3
   },
   "file_extension": ".py",
   "mimetype": "text/x-python",
   "name": "python",
   "nbconvert_exporter": "python",
   "pygments_lexer": "ipython3",
   "version": "3.11.6"
  }
 },
 "nbformat": 4,
 "nbformat_minor": 2
}
